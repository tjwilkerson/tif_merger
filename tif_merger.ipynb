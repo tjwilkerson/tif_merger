{
 "cells": [
  {
   "cell_type": "code",
   "execution_count": 1,
   "metadata": {},
   "outputs": [],
   "source": [
    "import geopandas as gpd\n",
    "import rasterio\n",
    "import os\n",
    "from shapely.geometry import box"
   ]
  },
  {
   "cell_type": "code",
   "execution_count": 4,
   "metadata": {},
   "outputs": [],
   "source": [
    "# Load your AOI shapefile\n",
    "aoi = gpd.read_file(\"willow_plot_aoi.shp\")"
   ]
  },
  {
   "cell_type": "code",
   "execution_count": 5,
   "metadata": {},
   "outputs": [],
   "source": [
    "# Directory containing the TIFFs\n",
    "tif_dir = r\"C:\\2024 Willow Release Height Project\\YNP LiDAR\\DEM_TIFFS\"\n",
    "\n",
    "# List to store filenames of TIFFs within the AOI\n",
    "tifs_in_aoi = []\n"
   ]
  },
  {
   "cell_type": "code",
   "execution_count": 7,
   "metadata": {},
   "outputs": [
    {
     "name": "stdout",
     "output_type": "stream",
     "text": [
      "CRS of the first TIFF: COMPD_CS[\"NAD83(2011) / UTM zone 12N + NAVD88 height\",PROJCS[\"NAD83(2011) / UTM zone 12N\",GEOGCS[\"NAD83(2011)\",DATUM[\"NAD83_National_Spatial_Reference_System_2011\",SPHEROID[\"GRS 1980\",6378137,298.257222101,AUTHORITY[\"EPSG\",\"7019\"]],AUTHORITY[\"EPSG\",\"1116\"]],PRIMEM[\"Greenwich\",0,AUTHORITY[\"EPSG\",\"8901\"]],UNIT[\"degree\",0.0174532925199433,AUTHORITY[\"EPSG\",\"9122\"]],AUTHORITY[\"EPSG\",\"6318\"]],PROJECTION[\"Transverse_Mercator\"],PARAMETER[\"latitude_of_origin\",0],PARAMETER[\"central_meridian\",-111],PARAMETER[\"scale_factor\",0.9996],PARAMETER[\"false_easting\",500000],PARAMETER[\"false_northing\",0],UNIT[\"metre\",1,AUTHORITY[\"EPSG\",\"9001\"]],AXIS[\"Easting\",EAST],AXIS[\"Northing\",NORTH],AUTHORITY[\"EPSG\",\"6341\"]],VERT_CS[\"NAVD88 height\",VERT_DATUM[\"North American Vertical Datum 1988\",2005,AUTHORITY[\"EPSG\",\"5103\"]],UNIT[\"metre\",1,AUTHORITY[\"EPSG\",\"9001\"]],AXIS[\"Gravity-related height\",UP],AUTHORITY[\"EPSG\",\"5703\"]]]\n"
     ]
    }
   ],
   "source": [
    "\n",
    "\n",
    "# Find the first TIFF file in the directory\n",
    "for filename in os.listdir(tif_dir):\n",
    "    if filename.endswith(\".tif\"):\n",
    "        first_tif_path = os.path.join(tif_dir, filename)\n",
    "        break\n",
    "\n",
    "# Open the first TIFF and print its CRS\n",
    "with rasterio.open(first_tif_path) as src:\n",
    "    print(\"CRS of the first TIFF:\", src.crs)\n"
   ]
  },
  {
   "cell_type": "code",
   "execution_count": 8,
   "metadata": {},
   "outputs": [
    {
     "data": {
      "text/plain": [
       "<Compound CRS: COMPD_CS[\"NAD83(2011) / UTM zone 12N + NAVD_1988_G ...>\n",
       "Name: NAD83(2011) / UTM zone 12N + NAVD_1988_Geoid18\n",
       "Axis Info [cartesian|vertical]:\n",
       "- [east]: Easting (metre)\n",
       "- [north]: Northing (metre)\n",
       "- [up]: Gravity-related height (metre)\n",
       "Area of Use:\n",
       "- undefined\n",
       "Datum: NAD83 (National Spatial Reference System 2011)\n",
       "- Ellipsoid: GRS 1980\n",
       "- Prime Meridian: Greenwich\n",
       "Sub CRS:\n",
       "- NAD83(2011) / UTM zone 12N\n",
       "- NAVD_1988_Geoid18"
      ]
     },
     "execution_count": 8,
     "metadata": {},
     "output_type": "execute_result"
    }
   ],
   "source": [
    "aoi.crs"
   ]
  },
  {
   "cell_type": "code",
   "execution_count": 9,
   "metadata": {},
   "outputs": [
    {
     "name": "stdout",
     "output_type": "stream",
     "text": [
      "Process completed. The list of TIFFs in the AOI has been saved.\n",
      "Elapsed time: 386.01562333106995 seconds\n"
     ]
    }
   ],
   "source": [
    "import time\n",
    "\n",
    "start = time.time()\n",
    "\n",
    "# Open the file for writing at the start of the process\n",
    "with open(\"tifs_in_aoi_dem.txt\", \"w\") as file:\n",
    "    # Iterate over files in the directory\n",
    "    for filename in os.listdir(tif_dir):\n",
    "        if filename.endswith(\".tif\"):\n",
    "            filepath = os.path.join(tif_dir, filename)\n",
    "            with rasterio.open(filepath) as src:\n",
    "                # Create a bounding box from the TIFF's bounds\n",
    "                tif_bounds = box(*src.bounds)\n",
    "                # Check if the bounding box intersects with the AOI\n",
    "                if aoi.intersects(tif_bounds).any():\n",
    "                    file.write(f\"{filename}\\n\")\n",
    "\n",
    "print(\"Process completed. The list of TIFFs in the AOI has been saved.\")\n",
    "\n",
    "end  = time.time()\n",
    "\n",
    "elapsed_time = end - start\n",
    "\n",
    "print(f\"Elapsed time: {elapsed_time} seconds\")"
   ]
  },
  {
   "cell_type": "code",
   "execution_count": 10,
   "metadata": {},
   "outputs": [],
   "source": [
    "from rasterio.merge import merge\n",
    "\n",
    "# Path to the text file containing the TIFF filenames in the AOI\n",
    "filename_list_path = 'tifs_in_aoi_dem.txt'\n",
    "\n",
    "# Base directory containing the TIFFs\n",
    "base_tif_dir = r\"C:\\2024 Willow Release Height Project\\YNP LiDAR\\DEM_TIFFS\"\n",
    "\n",
    "# Read the list of filenames from the file\n",
    "with open(filename_list_path, 'r') as file:\n",
    "    tiff_files = [line.strip() for line in file]\n",
    "\n",
    "# List to hold open raster files for merging\n",
    "src_files_to_mosaic = []\n",
    "\n",
    "# Open the TIFF files specified in the list\n",
    "for filename in tiff_files:\n",
    "    file_path = os.path.join(base_tif_dir, filename)\n",
    "    src = rasterio.open(file_path)\n",
    "    src_files_to_mosaic.append(src)"
   ]
  },
  {
   "cell_type": "code",
   "execution_count": 11,
   "metadata": {},
   "outputs": [
    {
     "name": "stdout",
     "output_type": "stream",
     "text": [
      "Merging complete. The merged file is saved.\n"
     ]
    }
   ],
   "source": [
    "# Perform the merge operation\n",
    "mosaic, out_trans = merge(src_files_to_mosaic)\n",
    "\n",
    "# Output metadata\n",
    "out_meta = src.meta.copy()\n",
    "\n",
    "# Update the metadata to reflect the dimensions and transformation of the mosaic\n",
    "out_meta.update({\n",
    "    \"driver\": \"GTiff\",\n",
    "    \"height\": mosaic.shape[1],\n",
    "    \"width\": mosaic.shape[2],\n",
    "    \"transform\": out_trans,\n",
    "    \"crs\": src.crs\n",
    "})\n",
    "\n",
    "# Write the mosaic raster to disk\n",
    "with rasterio.open(r'C:\\2024 Willow Release Height Project\\YNP LiDAR\\Max_surface_height_rasters\\merged_AOI\\merged_DEM_AOI.tif', \"w\", **out_meta) as dest:\n",
    "    dest.write(mosaic)\n",
    "\n",
    "# Close the source files\n",
    "for src in src_files_to_mosaic:\n",
    "    src.close()\n",
    "\n",
    "print(\"Merging complete. The merged file is saved.\")"
   ]
  },
  {
   "cell_type": "code",
   "execution_count": 12,
   "metadata": {},
   "outputs": [
    {
     "name": "stdout",
     "output_type": "stream",
     "text": [
      "Vegetation Height Model created successfully.\n"
     ]
    }
   ],
   "source": [
    "from rasterio.enums import Resampling\n",
    "\n",
    "# Paths to your CHM and DEM raster files\n",
    "chm_raster_path = r'C:\\2024 Willow Release Height Project\\YNP LiDAR\\Max_surface_height_rasters\\merged_AOI\\merged_CHM_AOI.tif'\n",
    "dem_raster_path = r'C:\\2024 Willow Release Height Project\\YNP LiDAR\\Max_surface_height_rasters\\merged_AOI\\merged_DEM_AOI.tif'\n",
    "output_vhm_path = r'C:\\2024 Willow Release Height Project\\YNP LiDAR\\Max_surface_height_rasters\\merged_AOI\\merged_VHM_AOI.tif'\n",
    "\n",
    "# Open the CHM and DEM rasters\n",
    "with rasterio.open(chm_raster_path) as src_chm, rasterio.open(dem_raster_path) as src_dem:\n",
    "    # Read the rasters as arrays\n",
    "    chm_array = src_chm.read(1)  # Read the first band\n",
    "    dem_array = src_dem.read(1)  # Read the first band\n",
    "\n",
    "    # Check if both rasters have the same shape\n",
    "    if chm_array.shape != dem_array.shape:\n",
    "        # Resample DEM to match CHM (if they differ in shape or transform)\n",
    "        dem_array = src_dem.read(\n",
    "            1,\n",
    "            out_shape=(src_chm.height, src_chm.width),\n",
    "            resampling=Resampling.bilinear\n",
    "        )\n",
    "\n",
    "    # Calculate the Vegetation Height Model by subtracting DEM from CHM\n",
    "    vhm_array = chm_array - dem_array\n",
    "\n",
    "    # Output metadata (using CHM's metadata)\n",
    "    out_meta = src_chm.meta.copy()\n",
    "\n",
    "    # Create the VHM raster file\n",
    "    with rasterio.open(output_vhm_path, 'w', **out_meta) as dst:\n",
    "        dst.write(vhm_array, 1)  # Write the VHM array to the first band\n",
    "\n",
    "print(\"Vegetation Height Model created successfully.\")"
   ]
  }
 ],
 "metadata": {
  "kernelspec": {
   "display_name": "Python 3",
   "language": "python",
   "name": "python3"
  },
  "language_info": {
   "codemirror_mode": {
    "name": "ipython",
    "version": 3
   },
   "file_extension": ".py",
   "mimetype": "text/x-python",
   "name": "python",
   "nbconvert_exporter": "python",
   "pygments_lexer": "ipython3",
   "version": "3.12.3"
  }
 },
 "nbformat": 4,
 "nbformat_minor": 2
}
