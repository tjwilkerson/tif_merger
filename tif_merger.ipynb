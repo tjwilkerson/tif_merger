{
 "cells": [
  {
   "cell_type": "code",
   "execution_count": null,
   "metadata": {},
   "outputs": [],
   "source": [
    "import geopandas as gpd\n",
    "import rasterio\n",
    "import os\n",
    "from shapely.geometry import box\n",
    "\n",
    "\n",
    "\n",
    "\n",
    "\n",
    "\n",
    "\n",
    "\n"
   ]
  },
  {
   "cell_type": "code",
   "execution_count": null,
   "metadata": {},
   "outputs": [],
   "source": [
    "# Load your AOI shapefile\n",
    "aoi = gpd.read_file(\"path_to_your_shapefile.shp\")"
   ]
  },
  {
   "cell_type": "code",
   "execution_count": null,
   "metadata": {},
   "outputs": [],
   "source": [
    "# Directory containing the TIFFs\n",
    "tif_dir = r\"C:\\2024 Willow Release Height Project\\YNP LiDAR\\Max_surface_height_rasters\\TIFFs\"\n",
    "\n",
    "# List to store filenames of TIFFs within the AOI\n",
    "tifs_in_aoi = []\n"
   ]
  },
  {
   "cell_type": "code",
   "execution_count": null,
   "metadata": {},
   "outputs": [],
   "source": [
    "# Iterate over files in the directory\n",
    "for filename in os.listdir(tif_dir):\n",
    "    if filename.endswith(\".tif\"):\n",
    "        filepath = os.path.join(tif_dir, filename)\n",
    "        with rasterio.open(filepath) as src:\n",
    "            # Create a bounding box from the TIFF's bounds\n",
    "            tif_bounds = box(*src.bounds)\n",
    "            # Check if the bounding box intersects with the AOI\n",
    "            if aoi.intersects(tif_bounds).any():\n",
    "                tifs_in_aoi.append(filename)\n",
    "\n",
    "# Save the list of TIFFs that are within the AOI\n",
    "with open(\"tifs_in_aoi.txt\", \"w\") as file:\n",
    "    for tif in tifs_in_aoi:\n",
    "        file.write(f\"{tif}\\n\")\n",
    "\n",
    "print(\"Process completed. Found {} TIFFs in the AOI.\".format(len(tifs_in_aoi)))\n"
   ]
  },
  {
   "cell_type": "code",
   "execution_count": null,
   "metadata": {},
   "outputs": [],
   "source": []
  },
  {
   "cell_type": "code",
   "execution_count": null,
   "metadata": {},
   "outputs": [],
   "source": []
  }
 ],
 "metadata": {
  "language_info": {
   "name": "python"
  }
 },
 "nbformat": 4,
 "nbformat_minor": 2
}
